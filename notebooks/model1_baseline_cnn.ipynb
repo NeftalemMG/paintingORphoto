version https://git-lfs.github.com/spec/v1
oid sha256:008e07780b484124552c6a418a6e8f242243e16e411eece802cbc32b8a90fb42
size 7258
