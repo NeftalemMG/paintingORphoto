version https://git-lfs.github.com/spec/v1
oid sha256:05800e663d635ffb9c89938972f5e112d12edc9e4e6e99483668fe94d05b4221
size 7261
