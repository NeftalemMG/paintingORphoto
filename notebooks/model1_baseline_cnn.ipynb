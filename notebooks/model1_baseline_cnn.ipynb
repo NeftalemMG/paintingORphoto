version https://git-lfs.github.com/spec/v1
oid sha256:917682d05276f2d1b3d196db7166525cfb646d08395caa11e55409804d0617a0
size 7257
