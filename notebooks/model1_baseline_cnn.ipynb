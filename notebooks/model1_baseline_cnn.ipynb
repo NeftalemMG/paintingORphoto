version https://git-lfs.github.com/spec/v1
oid sha256:02cd51bf47d2584869c065af4d92025ecdbb4c65df69f723b0880276610ad480
size 7418
