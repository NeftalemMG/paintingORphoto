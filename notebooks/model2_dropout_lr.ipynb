version https://git-lfs.github.com/spec/v1
oid sha256:8dbf23113c9355256517410b5e1147f7c899e2aa18eb66845eaf859538e9b9f0
size 5590
