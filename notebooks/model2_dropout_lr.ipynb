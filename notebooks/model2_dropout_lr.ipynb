version https://git-lfs.github.com/spec/v1
oid sha256:e52306603a4c0d4ce0dbbcf68f3d132c56b333c237f58e4aeaae84910dc09d3c
size 5599
